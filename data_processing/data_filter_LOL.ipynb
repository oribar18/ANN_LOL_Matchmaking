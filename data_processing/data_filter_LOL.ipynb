{
 "nbformat": 4,
 "nbformat_minor": 0,
 "metadata": {
  "colab": {
   "provenance": []
  },
  "kernelspec": {
   "name": "python3",
   "display_name": "Python 3 (ipykernel)",
   "language": "python"
  },
  "language_info": {
   "name": "python"
  }
 },
 "cells": [
  {
   "cell_type": "code",
   "source": [
    "import numpy as np\n",
    "import pandas as pd"
   ],
   "metadata": {
    "id": "JL1fsLHe8nmO",
    "ExecuteTime": {
     "end_time": "2024-11-27T16:52:50.460085Z",
     "start_time": "2024-11-27T16:52:50.447189Z"
    },
    "pycharm": {
     "name": "#%%\n"
    }
   },
   "outputs": [],
   "execution_count": 55
  },
  {
   "cell_type": "code",
   "metadata": {
    "colab": {
     "base_uri": "https://localhost:8080/",
     "height": 423
    },
    "id": "-HtIbZlL74Ni",
    "outputId": "a537956b-028e-4848-a364-1c349f54b21e",
    "ExecuteTime": {
     "end_time": "2024-11-27T16:52:50.516453Z",
     "start_time": "2024-11-27T16:52:50.483829Z"
    },
    "pycharm": {
     "name": "#%%\n"
    }
   },
   "source": [
    "#read csv\n",
    "players_data = pd.read_csv('league_of_graphs_players.csv')\n",
    "\n",
    "games_players_data = pd.read_csv('games_players_data.csv')\n",
    "\n",
    "games_data = pd.read_csv('Games_data_raw.csv')"
   ],
   "outputs": [],
   "execution_count": 56
  },
  {
   "cell_type": "code",
   "source": [
    "def data_processing(data):\n",
    "  #new cols 'division', 'rank', 'lp' full of nones\n",
    "  data['division'] = np.nan\n",
    "  data['rank'] = np.nan\n",
    "  data['lp'] = np.nan\n",
    "  \n",
    "  for i in range(len(data)):\n",
    "    #split rank_lp to rank, lp\n",
    "    if len(data.loc[i, 'rank_lp'].split()) == 4:\n",
    "      div, rank, lp, _ = data.loc[i, 'rank_lp'].split(' ')\n",
    "      data.loc[i, ['division', 'rank', 'lp']] = div, rank, lp\n",
    "    elif len(data.loc[i, 'rank_lp'].split()) == 3:\n",
    "      div, lp, _ = data.loc[i, 'rank_lp'].split(' ')\n",
    "      data.loc[i, ['division', 'rank', 'lp']] = div, None, lp\n",
    "    else:\n",
    "      div, rank = data.loc[i, 'rank_lp'].split(' ')\n",
    "      data.loc[i, ['division', 'rank', 'lp']] = div, rank, 0\n",
    "  \n",
    "  romav_dict = {'I': 1, 'II': 2, 'III': 3, 'IV': 4, 'V': 5, None: None}\n",
    "  data['rank'] = data['rank'].map(romav_dict)\n",
    "  \n",
    "  \n",
    "  \n",
    "  \n",
    "  #split winrate to winrate, games_played. last part is rate, second last is game_played\n",
    "  data[['_', 'games_won', 'winrate']] = data['winrate'].str.split(' ', expand=True)\n",
    "  #filter winrate from % and ()\n",
    "  data['winrate'] = data['winrate'].str.replace('%', '').str.replace('(', '').str.replace(')', '')\n",
    "  #split kda to kills, death, assists\n",
    "  data[['kills', 'death', 'assists']] = data['kda'].str.split('/', expand=True)\n",
    "  #drop rank_lp, kda\n",
    "  data = data.drop(['rank_lp', 'kda', '_'], axis=1) # Remove '_' from the list of columns to drop.\n",
    "  #show first 10 lines\n",
    "  return data"
   ],
   "metadata": {
    "colab": {
     "base_uri": "https://localhost:8080/",
     "height": 806
    },
    "id": "PI7W4faz_FA4",
    "outputId": "85fecc78-5d28-421e-e87b-cca9a9dbfcf4",
    "ExecuteTime": {
     "end_time": "2024-11-27T16:52:50.534577Z",
     "start_time": "2024-11-27T16:52:50.527633Z"
    },
    "pycharm": {
     "name": "#%%\n"
    }
   },
   "outputs": [],
   "execution_count": 57
  },
  {
   "cell_type": "code",
   "source": [
    "players_data = data_processing(players_data)\n",
    "games_players_data = data_processing(games_players_data)"
   ],
   "metadata": {
    "id": "ue3fBp3y-NW7",
    "ExecuteTime": {
     "end_time": "2024-11-27T16:52:54.331586Z",
     "start_time": "2024-11-27T16:52:50.550416Z"
    },
    "pycharm": {
     "name": "#%%\n"
    }
   },
   "outputs": [
    {
     "name": "stderr",
     "output_type": "stream",
     "text": [
      "C:\\Users\\mfranko\\AppData\\Local\\Temp\\ipykernel_28256\\2478756024.py:14: FutureWarning: Setting an item of incompatible dtype is deprecated and will raise an error in a future version of pandas. Value 'Challenger' has dtype incompatible with float64, please explicitly cast to a compatible dtype first.\n",
      "  data.loc[i, ['division', 'rank', 'lp']] = div, None, lp\n",
      "C:\\Users\\mfranko\\AppData\\Local\\Temp\\ipykernel_28256\\2478756024.py:14: FutureWarning: Setting an item of incompatible dtype is deprecated and will raise an error in a future version of pandas. Value '1248' has dtype incompatible with float64, please explicitly cast to a compatible dtype first.\n",
      "  data.loc[i, ['division', 'rank', 'lp']] = div, None, lp\n",
      "C:\\Users\\mfranko\\AppData\\Local\\Temp\\ipykernel_28256\\2478756024.py:11: FutureWarning: Setting an item of incompatible dtype is deprecated and will raise an error in a future version of pandas. Value 'I' has dtype incompatible with float64, please explicitly cast to a compatible dtype first.\n",
      "  data.loc[i, ['division', 'rank', 'lp']] = div, rank, lp\n",
      "C:\\Users\\mfranko\\AppData\\Local\\Temp\\ipykernel_28256\\2478756024.py:14: FutureWarning: Setting an item of incompatible dtype is deprecated and will raise an error in a future version of pandas. Value 'Master' has dtype incompatible with float64, please explicitly cast to a compatible dtype first.\n",
      "  data.loc[i, ['division', 'rank', 'lp']] = div, None, lp\n",
      "C:\\Users\\mfranko\\AppData\\Local\\Temp\\ipykernel_28256\\2478756024.py:14: FutureWarning: Setting an item of incompatible dtype is deprecated and will raise an error in a future version of pandas. Value '24' has dtype incompatible with float64, please explicitly cast to a compatible dtype first.\n",
      "  data.loc[i, ['division', 'rank', 'lp']] = div, None, lp\n",
      "C:\\Users\\mfranko\\AppData\\Local\\Temp\\ipykernel_28256\\2478756024.py:11: FutureWarning: Setting an item of incompatible dtype is deprecated and will raise an error in a future version of pandas. Value 'I' has dtype incompatible with float64, please explicitly cast to a compatible dtype first.\n",
      "  data.loc[i, ['division', 'rank', 'lp']] = div, rank, lp\n"
     ]
    }
   ],
   "execution_count": 58
  },
  {
   "metadata": {
    "ExecuteTime": {
     "end_time": "2024-11-27T16:52:54.392695Z",
     "start_time": "2024-11-27T16:52:54.343088Z"
    },
    "pycharm": {
     "name": "#%%\n"
    }
   },
   "cell_type": "code",
   "source": [
    "players_data.dropna(subset=['winrate'], inplace=True)\n",
    "\n",
    "bad_names = []\n",
    "for index, row in games_players_data.iterrows():\n",
    "    if row['winrate'] is np.nan:\n",
    "        bad_names.append(row['username'])\n",
    "games_players_data.dropna(subset=['winrate'], inplace=True)"
   ],
   "outputs": [],
   "execution_count": 59
  },
  {
   "metadata": {
    "ExecuteTime": {
     "end_time": "2024-11-27T16:52:54.420470Z",
     "start_time": "2024-11-27T16:52:54.404457Z"
    },
    "pycharm": {
     "name": "#%%\n"
    }
   },
   "cell_type": "code",
   "source": [
    "for name in bad_names:\n",
    "    games_data = games_data[~games_data.isin([name]).any(axis=1)]"
   ],
   "outputs": [],
   "execution_count": 60
  },
  {
   "cell_type": "code",
   "source": [
    "#export to csv\n",
    "players_data.to_csv('league_of_graphs_players_filtered.csv', index=False)\n",
    "\n",
    "games_players_data.to_csv('games_players_data_filtered.csv', index=False)\n",
    "\n",
    "games_data.to_csv('Games_data_raw_filtered.csv', index=False)"
   ],
   "metadata": {
    "id": "yipFmXWO98cN",
    "ExecuteTime": {
     "end_time": "2024-11-27T16:52:54.483424Z",
     "start_time": "2024-11-27T16:52:54.432421Z"
    },
    "pycharm": {
     "name": "#%%\n"
    }
   },
   "outputs": [],
   "execution_count": 61
  }
 ]
}