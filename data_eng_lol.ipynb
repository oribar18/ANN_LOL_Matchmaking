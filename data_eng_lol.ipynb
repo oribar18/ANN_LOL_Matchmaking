{
  "nbformat": 4,
  "nbformat_minor": 0,
  "metadata": {
    "colab": {
      "provenance": []
    },
    "kernelspec": {
      "name": "python3",
      "display_name": "Python 3"
    },
    "language_info": {
      "name": "python"
    }
  },
  "cells": [
    {
      "cell_type": "code",
      "execution_count": 7,
      "metadata": {
        "id": "94L7wXBF8IA5"
      },
      "outputs": [],
      "source": [
        "import pandas as pd\n",
        "import numpy as np\n"
      ]
    },
    {
      "cell_type": "code",
      "source": [
        "def get_df():\n",
        "  pass"
      ],
      "metadata": {
        "id": "UeSCMpbBX_Wo"
      },
      "execution_count": null,
      "outputs": []
    },
    {
      "cell_type": "code",
      "source": [
        "df = get_df()\n",
        "df.head()"
      ],
      "metadata": {
        "colab": {
          "base_uri": "https://localhost:8080/",
          "height": 53
        },
        "id": "aEnSKiii8cVA",
        "outputId": "8cfcb9bd-c77c-42e1-e7fa-c9d04c571fdb"
      },
      "execution_count": 6,
      "outputs": [
        {
          "output_type": "execute_result",
          "data": {
            "text/plain": [
              "Empty DataFrame\n",
              "Columns: []\n",
              "Index: []"
            ],
            "text/html": [
              "\n",
              "  <div id=\"df-737c5ea4-d6d7-49b9-b632-0c7360f9c7c4\" class=\"colab-df-container\">\n",
              "    <div>\n",
              "<style scoped>\n",
              "    .dataframe tbody tr th:only-of-type {\n",
              "        vertical-align: middle;\n",
              "    }\n",
              "\n",
              "    .dataframe tbody tr th {\n",
              "        vertical-align: top;\n",
              "    }\n",
              "\n",
              "    .dataframe thead th {\n",
              "        text-align: right;\n",
              "    }\n",
              "</style>\n",
              "<table border=\"1\" class=\"dataframe\">\n",
              "  <thead>\n",
              "    <tr style=\"text-align: right;\">\n",
              "      <th></th>\n",
              "    </tr>\n",
              "  </thead>\n",
              "  <tbody>\n",
              "  </tbody>\n",
              "</table>\n",
              "</div>\n",
              "    <div class=\"colab-df-buttons\">\n",
              "\n",
              "  <div class=\"colab-df-container\">\n",
              "    <button class=\"colab-df-convert\" onclick=\"convertToInteractive('df-737c5ea4-d6d7-49b9-b632-0c7360f9c7c4')\"\n",
              "            title=\"Convert this dataframe to an interactive table.\"\n",
              "            style=\"display:none;\">\n",
              "\n",
              "  <svg xmlns=\"http://www.w3.org/2000/svg\" height=\"24px\" viewBox=\"0 -960 960 960\">\n",
              "    <path d=\"M120-120v-720h720v720H120Zm60-500h600v-160H180v160Zm220 220h160v-160H400v160Zm0 220h160v-160H400v160ZM180-400h160v-160H180v160Zm440 0h160v-160H620v160ZM180-180h160v-160H180v160Zm440 0h160v-160H620v160Z\"/>\n",
              "  </svg>\n",
              "    </button>\n",
              "\n",
              "  <style>\n",
              "    .colab-df-container {\n",
              "      display:flex;\n",
              "      gap: 12px;\n",
              "    }\n",
              "\n",
              "    .colab-df-convert {\n",
              "      background-color: #E8F0FE;\n",
              "      border: none;\n",
              "      border-radius: 50%;\n",
              "      cursor: pointer;\n",
              "      display: none;\n",
              "      fill: #1967D2;\n",
              "      height: 32px;\n",
              "      padding: 0 0 0 0;\n",
              "      width: 32px;\n",
              "    }\n",
              "\n",
              "    .colab-df-convert:hover {\n",
              "      background-color: #E2EBFA;\n",
              "      box-shadow: 0px 1px 2px rgba(60, 64, 67, 0.3), 0px 1px 3px 1px rgba(60, 64, 67, 0.15);\n",
              "      fill: #174EA6;\n",
              "    }\n",
              "\n",
              "    .colab-df-buttons div {\n",
              "      margin-bottom: 4px;\n",
              "    }\n",
              "\n",
              "    [theme=dark] .colab-df-convert {\n",
              "      background-color: #3B4455;\n",
              "      fill: #D2E3FC;\n",
              "    }\n",
              "\n",
              "    [theme=dark] .colab-df-convert:hover {\n",
              "      background-color: #434B5C;\n",
              "      box-shadow: 0px 1px 3px 1px rgba(0, 0, 0, 0.15);\n",
              "      filter: drop-shadow(0px 1px 2px rgba(0, 0, 0, 0.3));\n",
              "      fill: #FFFFFF;\n",
              "    }\n",
              "  </style>\n",
              "\n",
              "    <script>\n",
              "      const buttonEl =\n",
              "        document.querySelector('#df-737c5ea4-d6d7-49b9-b632-0c7360f9c7c4 button.colab-df-convert');\n",
              "      buttonEl.style.display =\n",
              "        google.colab.kernel.accessAllowed ? 'block' : 'none';\n",
              "\n",
              "      async function convertToInteractive(key) {\n",
              "        const element = document.querySelector('#df-737c5ea4-d6d7-49b9-b632-0c7360f9c7c4');\n",
              "        const dataTable =\n",
              "          await google.colab.kernel.invokeFunction('convertToInteractive',\n",
              "                                                    [key], {});\n",
              "        if (!dataTable) return;\n",
              "\n",
              "        const docLinkHtml = 'Like what you see? Visit the ' +\n",
              "          '<a target=\"_blank\" href=https://colab.research.google.com/notebooks/data_table.ipynb>data table notebook</a>'\n",
              "          + ' to learn more about interactive tables.';\n",
              "        element.innerHTML = '';\n",
              "        dataTable['output_type'] = 'display_data';\n",
              "        await google.colab.output.renderOutput(dataTable, element);\n",
              "        const docLink = document.createElement('div');\n",
              "        docLink.innerHTML = docLinkHtml;\n",
              "        element.appendChild(docLink);\n",
              "      }\n",
              "    </script>\n",
              "  </div>\n",
              "\n",
              "\n",
              "    </div>\n",
              "  </div>\n"
            ],
            "application/vnd.google.colaboratory.intrinsic+json": {
              "type": "dataframe",
              "variable_name": "df",
              "summary": "{\n  \"name\": \"df\",\n  \"rows\": 0,\n  \"fields\": []\n}"
            }
          },
          "metadata": {},
          "execution_count": 6
        }
      ]
    },
    {
      "cell_type": "code",
      "source": [
        "def normalize_stats_per_feature(df, index, feature, max_value, min_value):\n",
        "  return (df.iloc[index][feature] - min_value) / (max_value - min_value)"
      ],
      "metadata": {
        "id": "kj_UkUUVA_Tu"
      },
      "execution_count": null,
      "outputs": []
    },
    {
      "cell_type": "code",
      "source": [
        "def calculate_kda(df, index):\n",
        "  kills = df.iloc[index]['kills']\n",
        "  deaths = df.iloc[index]['deaths']\n",
        "  assists = df.iloc[index]['assists']\n",
        "  pass"
      ],
      "metadata": {
        "id": "9QmadSjYG8Cp"
      },
      "execution_count": null,
      "outputs": []
    },
    {
      "cell_type": "code",
      "source": [
        "def get_stats(df, kda_seperate=False):\n",
        "  vecs_by_rank_and_role = {}\n",
        "  if not kda_seperate:\n",
        "    kdas = []\n",
        "    for i in range(len(df)):\n",
        "      kdas.append(calculate_kda(df, i))\n",
        "    max_kda = max(kdas)\n",
        "    min_kda = min(kdas)\n",
        "  for i in range(len(df)):\n",
        "    rank = df.iloc[i]['rank']\n",
        "    role = df.iloc[i]['role']\n",
        "    if df.iloc[i]['rank'] not in vecs_by_rank_and_role.keys():\n",
        "      for possible_role in ['Support', 'AD Carry', 'Mid', 'Jungler', 'Top']:\n",
        "        vecs_by_rank_and_role[df.iloc[i]['rank']][possible_role] = {'names': [], 'vecs': []}\n",
        "\n",
        "    vecs_by_rank_and_role[rank][role]['names'].append(df.iloc[i]['name'])\n",
        "    vecs_by_rank_and_role[rank][role]['vecs'].append([])\n",
        "\n",
        "    vecs_by_rank_and_role[rank][role]['vecs'][-1].append(df.iloc[i]['role'])\n",
        "    vecs_by_rank_and_role[rank][role]['vecs'][-1].append(df.iloc[i]['lp']/100)\n",
        "    vecs_by_rank_and_role[rank][role]['vecs'][-1].append(df.iloc[i]['winrate']/100)\n",
        "    vecs_by_rank_and_role[rank][role]['vecs'][-1].append(normalize_stats_per_feature(df, i, 'gold/min', df['gold/min'].max(), df['gold/min'].min()))\n",
        "    vecs_by_rank_and_role[rank][role]['vecs'][-1].append(normalize_stats_per_feature(df, i, 'minions/min', df['minions/min'].max(), df['minions/min'].min()))\n",
        "    if kda_seperate:\n",
        "      vecs_by_rank_and_role[rank][role]['vecs'][-1].append(normalize_stats_per_feature(df, i, 'kills', df['kills'].max(), df['kills'].min()))\n",
        "      vecs_by_rank_and_role[rank][role]['vecs'][-1].append(normalize_stats_per_feature(df, i, 'deaths', df['deaths'].max(), df['deaths'].min()))\n",
        "      vecs_by_rank_and_role[rank][role]['vecs'][-1].append(normalize_stats_per_feature(df, i, 'assists', df['assists'].max(), df['assists'].min()))\n",
        "    else:\n",
        "      vecs_by_rank_and_role[rank][role]['vecs'][-1].append((calculate_kda(df, i) - min_kda) / (max_kda - min_kda))\n",
        "  for possible_rank in vecs_by_rank_and_role.keys():\n",
        "    for possible_role in vecs_by_rank_and_role[possible_rank].keys():\n",
        "      vecs_by_rank_and_role[possible_rank][possible_role]['vecs'] = np.array(vecs_by_rank_and_role[possible_rank][possible_role]['vecs']).astype('float32')\n",
        "\n",
        "  return vecs_by_rank_and_role\n"
      ],
      "metadata": {
        "id": "KD_jAz7g9DBq"
      },
      "execution_count": null,
      "outputs": []
    }
  ]
}